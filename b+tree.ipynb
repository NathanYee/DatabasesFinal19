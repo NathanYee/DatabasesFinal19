{
 "cells": [
  {
   "cell_type": "code",
   "execution_count": 1,
   "metadata": {},
   "outputs": [],
   "source": []
  },
  {
   "cell_type": "markdown",
   "metadata": {},
   "source": [
    "#### Insertion Rules  \n",
    "if maximum is surpassed:\n",
    "1. Give to left sibling\n",
    "2. Give to right sibling\n",
    "3. Split"
   ]
  },
  {
   "cell_type": "code",
   "execution_count": null,
   "metadata": {},
   "outputs": [],
   "source": [
    "class InternalNode(object):\n",
    "    def __init__(self, capacity):\n",
    "        self.capacity = capacity\n",
    "        self.items = []\n",
    "        self.children = []\n",
    "        self.min = None\n",
    "        self.lsibling = None\n",
    "        self.rsibling = None\n",
    "        \n",
    "    def update_items_leaf(self, i):\n",
    "        # update internal node items[i] to be minimum of proper leaf node\n",
    "        leaf = self.children[i+1]\n",
    "        self.items[i] = leaf.items[0]\n",
    "        \n",
    "    def update_minimum_leaf(self):\n",
    "        leaf = self.children[0]\n",
    "        self.min = leaf.items[0]\n",
    "        \n",
    "    def try_give_left(self, child_idx):\n",
    "        if leaf.lsibling and leaf.lsibling.has_space():\n",
    "            leaf.give_left()\n",
    "            if child_idx == 0: # gave left sibling internal node the tuple\n",
    "                self.lsibling.update_items_leaf(len(self.lsibling.items)-1)\n",
    "                self.update_minimum_leaf() # could speed up by just using leaf.items[0]\n",
    "            else:\n",
    "                self.update_items_leaf(child_idx - 1)\n",
    "            return True\n",
    "        return False\n",
    "    \n",
    "    def try_give_right(self, child_idx):\n",
    "        if leaf.rsibling and leaf.rsibling.has_space():\n",
    "            leaf.give_right()\n",
    "            if child_idx == self.capacity: # gave right sibling internal node the tuple\n",
    "                self.rsibling.update_minimum_leaf()\n",
    "            else:\n",
    "                self.update_items_leaf(child_idx)\n",
    "                if child_idx == 0:\n",
    "                    self.update_minimum_leaf()\n",
    "            return True\n",
    "        return False\n",
    "        \n",
    "    def rotate(self, child_idx):\n",
    "        if try_give_left(child_idx):\n",
    "            return\n",
    "        elif try_give_right(child_idx):\n",
    "            return\n",
    "        else: # Split\n",
    "            leaf.split()\n",
    "        \n",
    "    def insert_into_leaf(self, tup):\n",
    "        # find leaf and index to update\n",
    "        child_idx = len(self.items)\n",
    "        for i, item in enumerate(self.items):\n",
    "            if tup < item:\n",
    "                child_idx = i\n",
    "        leaf = self.children[child_idx]\n",
    "        \n",
    "        # insert tuple into leaf node\n",
    "        leaf.insert(tup)\n",
    "        \n",
    "        # fix leaf node if it is over capacity\n",
    "        if leaf.over_capacity():\n",
    "            self.rotate(child_idx)"
   ]
  },
  {
   "cell_type": "code",
   "execution_count": null,
   "metadata": {},
   "outputs": [],
   "source": [
    "class LeafNode(object):\n",
    "    def __init__(self, capacity, items = []):\n",
    "        self.capacity = capacity\n",
    "        self.items = items\n",
    "        self.lsibling = None\n",
    "        self.rsibling = None\n",
    "\n",
    "    def __repr__(self):\n",
    "        s = ''\n",
    "        s += 'Leaf Node\\n'\n",
    "        s += f'Capacity: {self.capacity}\\n'\n",
    "        s += f'Items: {self.items}\\n'\n",
    "        s += f'children: {self.children}\\n'\n",
    "        return s\n",
    "    \n",
    "    def has_space(self):\n",
    "        return len(self.items) < self.capacity\n",
    "    \n",
    "    def over_capacity(self):\n",
    "        return len(self.items) > self.capacity\n",
    "    \n",
    "    def insert(self, tup):\n",
    "        self.items.append(tup)\n",
    "        sorted(self.items)\n",
    "    \n",
    "    def give_left(self):\n",
    "        item = self.items[0]\n",
    "        del self.items[0]\n",
    "        self.lsibling.insert(item)\n",
    "    \n",
    "    def give_right(self):\n",
    "        item = self.items[-1]\n",
    "        del self.items[-1]\n",
    "        self.rsibling.insert(item)\n",
    "        \n",
    "    def split(self):\n",
    "        # split items\n",
    "        self.items = self.items[:self.c//2]\n",
    "        new_right = LeafNode(self.c, self.items[self.c//2:])\n",
    "        old_right = self.rsibling\n",
    "        \n",
    "        # change siblings\n",
    "        self.rsibling = new_right\n",
    "        new_right.lsibling = self\n",
    "        new_right.rsibling = old_right\n",
    "        old_right.lsibling = new_right"
   ]
  },
  {
   "cell_type": "code",
   "execution_count": 57,
   "metadata": {},
   "outputs": [],
   "source": [
    "m = 3 # elements in internal nodes\n",
    "l = 4 # elements in leaf nodes"
   ]
  },
  {
   "cell_type": "code",
   "execution_count": 58,
   "metadata": {},
   "outputs": [
    {
     "name": "stdout",
     "output_type": "stream",
     "text": [
      "Empty items - insert 0\n",
      "Larger than all items - inserting 1 at the end\n",
      "Larger than all items - inserting 2 at the end\n",
      "Larger than all items - inserting 3 at the end\n",
      "Larger than all items - inserting 4 at the end\n",
      "Leaf Node\n",
      "Capacity: 4\n",
      "Items: [0, 1, 2, 3, 4]\n",
      "children: []\n",
      "\n"
     ]
    }
   ],
   "source": [
    "ln1 = LeafNode(l)\n",
    "\n",
    "for i in range(5):\n",
    "    ln1.insert(i)\n",
    "\n",
    "print(ln1)"
   ]
  },
  {
   "cell_type": "code",
   "execution_count": null,
   "metadata": {},
   "outputs": [],
   "source": []
  },
  {
   "cell_type": "code",
   "execution_count": null,
   "metadata": {},
   "outputs": [],
   "source": []
  }
 ],
 "metadata": {
  "kernelspec": {
   "display_name": "Python [conda env:databases19]",
   "language": "python",
   "name": "conda-env-databases19-py"
  },
  "language_info": {
   "codemirror_mode": {
    "name": "ipython",
    "version": 3
   },
   "file_extension": ".py",
   "mimetype": "text/x-python",
   "name": "python",
   "nbconvert_exporter": "python",
   "pygments_lexer": "ipython3",
   "version": "3.7.2"
  }
 },
 "nbformat": 4,
 "nbformat_minor": 2
}
