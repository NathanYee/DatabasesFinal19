{
 "cells": [
  {
   "cell_type": "code",
   "execution_count": null,
   "metadata": {},
   "outputs": [],
   "source": [
    "from copy import copy"
   ]
  },
  {
   "cell_type": "markdown",
   "metadata": {},
   "source": [
    "#### Insertion Rules  \n",
    "if maximum is surpassed:\n",
    "1. Give to left sibling\n",
    "2. Give to right sibling\n",
    "3. Split"
   ]
  },
  {
   "cell_type": "code",
   "execution_count": 11,
   "metadata": {},
   "outputs": [],
   "source": [
    "n = 25000000"
   ]
  },
  {
   "cell_type": "code",
   "execution_count": 25,
   "metadata": {},
   "outputs": [
    {
     "name": "stdout",
     "output_type": "stream",
     "text": [
      "True\n",
      "True\n",
      "True\n",
      "True\n",
      "True\n",
      "True\n",
      "True\n",
      "True\n",
      "True\n",
      "True\n",
      "True\n",
      "True\n",
      "False\n",
      "False\n",
      "False\n",
      "False\n",
      "False\n",
      "False\n",
      "False\n",
      "False\n",
      "False\n",
      "False\n",
      "False\n"
     ]
    }
   ],
   "source": [
    "nums = [n/2**x for x in range(24)]\n",
    "for i in range(len(nums)-1):\n",
    "    print(nums[i] - nums[i+1] > 5000)"
   ]
  },
  {
   "cell_type": "code",
   "execution_count": null,
   "metadata": {},
   "outputs": [],
   "source": []
  },
  {
   "cell_type": "code",
   "execution_count": null,
   "metadata": {},
   "outputs": [],
   "source": []
  },
  {
   "cell_type": "code",
   "execution_count": 1,
   "metadata": {},
   "outputs": [
    {
     "ename": "SyntaxError",
     "evalue": "unexpected EOF while parsing (<ipython-input-1-e9c1a8d8350d>, line 7)",
     "output_type": "error",
     "traceback": [
      "\u001b[0;36m  File \u001b[0;32m\"<ipython-input-1-e9c1a8d8350d>\"\u001b[0;36m, line \u001b[0;32m7\u001b[0m\n\u001b[0;31m    \u001b[0m\n\u001b[0m    ^\u001b[0m\n\u001b[0;31mSyntaxError\u001b[0m\u001b[0;31m:\u001b[0m unexpected EOF while parsing\n"
     ]
    }
   ],
   "source": [
    "class BPTree(object):\n",
    "    def __init__(self, internal_capacity, leaf_capacity):\n",
    "        self.root = InternalNode(internal_capacity)\n",
    "    \n",
    "    def insert(self, tup):\n",
    "        self.root = self.root.insert_into_internal(tup)"
   ]
  },
  {
   "cell_type": "code",
   "execution_count": 10,
   "metadata": {},
   "outputs": [
    {
     "name": "stdout",
     "output_type": "stream",
     "text": [
      "[4, 5]\n",
      "[1, 2, 3]\n"
     ]
    }
   ],
   "source": [
    "n = 5 // 2\n",
    "print([1,2,3,4,5][n+1:])\n",
    "print([1,2,3,4,5][:n+1])"
   ]
  },
  {
   "cell_type": "code",
   "execution_count": 2,
   "metadata": {},
   "outputs": [],
   "source": [
    "class InternalNode(object):\n",
    "    def __init__(self, internal_capacity, leaf_capacity):\n",
    "        self.capacity = internal_capacity\n",
    "        self.leaf_capacity = leaf_capacity\n",
    "        self.items = []\n",
    "        self.children = []\n",
    "        self.min = None\n",
    "        self.lsibling = None\n",
    "        self.rsibling = None\n",
    "        \n",
    "    def __repr__(self):\n",
    "        s = ''\n",
    "        s += 'Internal Node\\n'\n",
    "        s += f'Capacity: {self.capacity}\\n'\n",
    "        s += f'Items: {self.items}\\n'\n",
    "        s += f'Children: ['\n",
    "        for child in self.children:\n",
    "            c = ''.join(['    ' + x + '\\n' for x in str(child).splitlines()])\n",
    "            s += f'\\n{c}'\n",
    "        s = s.rstrip(',')\n",
    "        s += ']'\n",
    "        return s\n",
    "        \n",
    "    def has_space(self):\n",
    "        return len(self.items) < self.capacity\n",
    "    \n",
    "    def over_capacity(self):\n",
    "        return len(self.items) > self.capacity\n",
    "        \n",
    "    def split(self):\n",
    "        new_right = InternalNode(self.capacity, self.leaf_capacity)\n",
    "        promote_idx = self.capacity//2\n",
    "        new_right.items = self.items[promote_idx+1:]\n",
    "        new_right.children = self.children[promote_idx+1:]\n",
    "        self.items = self.items[:promote_idx]\n",
    "        self.children = self.children[:promote_idx+1]\n",
    "        \n",
    "        # change siblings\n",
    "        old_right = self.rsibling\n",
    "        self.rsibling = new_right\n",
    "        new_right.lsibling = self\n",
    "        new_right.rsibling = old_right\n",
    "        if old_right:\n",
    "            old_right.lsibling = new_right\n",
    "        \n",
    "        return self.items[promote_idx]\n",
    "        \n",
    "    def insert(self, tup):\n",
    "        if len(self.children) == 0:\n",
    "            self.children.append(LeafNode(self.leaf_capacity))\n",
    "        if isinstance(self.children[0], LeafNode):\n",
    "            self.insert_into_leaf(tup)\n",
    "        elif isinstance(self.children[0], InternalNode):\n",
    "            self.insert_into_internal(tup)\n",
    "        else:\n",
    "            raise Exception(f\"Children of type: {type(self.children[0])}\")\n",
    "        \n",
    "    def rotate_internal(self, node, child_idx):\n",
    "        if self.try_give_left(node, child_idx):\n",
    "            return\n",
    "        elif self.try_give_right(node, child_idx):\n",
    "            return\n",
    "        else: # Split\n",
    "            self.try_leaf_split(node, child_idx)\n",
    "        \n",
    "    def insert_into_internal(self, tup):\n",
    "        # index of child internal node\n",
    "        child_idx = len(self.items)\n",
    "        for i, item in enumerate(self.items):\n",
    "            if tup < item:\n",
    "                child_idx = i\n",
    "        node = self.children[child_idx]\n",
    "        \n",
    "        # insert into node\n",
    "        node.insert(tup)\n",
    "        \n",
    "        if node.over_capacity():\n",
    "            self.rotate_internal(node, child_idx)\n",
    "        \n",
    "    def update_items_leaf(self, i):\n",
    "        # update internal node items[i] to be minimum of proper leaf node\n",
    "        leaf = self.children[i+1]\n",
    "        self.items[i] = leaf.items[0]\n",
    "        \n",
    "    def update_minimum_leaf(self):\n",
    "        leaf = self.children[0]\n",
    "        self.min = leaf.items[0]\n",
    "        \n",
    "    def try_give_left(self, leaf, child_idx):\n",
    "        if leaf.lsibling and leaf.lsibling.has_space():\n",
    "            leaf.give_left()\n",
    "            if child_idx == 0: # gave left sibling internal node the tuple\n",
    "                self.lsibling.update_items_leaf(len(self.lsibling.items)-1)\n",
    "                self.update_minimum_leaf() # could speed up by just using leaf.items[0]\n",
    "            else:\n",
    "                self.update_items_leaf(child_idx - 1)\n",
    "            return True\n",
    "        return False\n",
    "    \n",
    "    def try_give_right(self, leaf, child_idx):\n",
    "        if leaf.rsibling and leaf.rsibling.has_space():\n",
    "            leaf.give_right()\n",
    "            if child_idx == self.capacity: # gave right sibling internal node the tuple\n",
    "                self.rsibling.update_minimum_leaf()\n",
    "            else:\n",
    "                self.update_items_leaf(child_idx)\n",
    "                if child_idx == 0:\n",
    "                    self.update_minimum_leaf()\n",
    "            return True\n",
    "        return False\n",
    "        \n",
    "    def try_leaf_split(self, leaf, child_idx):\n",
    "        leaf.split()\n",
    "        new_right = leaf.rsibling\n",
    "        self.items.insert(child_idx, new_right.items[0])\n",
    "        self.children.insert(child_idx + 1, new_right)\n",
    "        \n",
    "    def rotate_leaf(self, leaf, child_idx):\n",
    "        if self.try_give_left(leaf, child_idx):\n",
    "            return\n",
    "        elif self.try_give_right(leaf, child_idx):\n",
    "            return\n",
    "        else: # Split\n",
    "            self.try_leaf_split(leaf, child_idx)\n",
    "        \n",
    "    def insert_into_leaf(self, tup):\n",
    "        # index of child leaf node\n",
    "        child_idx = len(self.items)\n",
    "        for i, item in enumerate(self.items):\n",
    "            if tup < item:\n",
    "                child_idx = i\n",
    "        leaf = self.children[child_idx]\n",
    "        \n",
    "        # insert tuple into leaf node\n",
    "        leaf.insert(tup)\n",
    "        \n",
    "        # fix leaf node if it is over capacity\n",
    "        if leaf.over_capacity():\n",
    "            self.rotate_leaf(leaf, child_idx)"
   ]
  },
  {
   "cell_type": "code",
   "execution_count": 3,
   "metadata": {},
   "outputs": [],
   "source": [
    "class LeafNode(object):\n",
    "    def __init__(self, capacity):\n",
    "        self.capacity = capacity\n",
    "        self.items = []\n",
    "        self.lsibling = None\n",
    "        self.rsibling = None\n",
    "\n",
    "    def __repr__(self):\n",
    "        s = ''\n",
    "        s += 'Leaf Node\\n'\n",
    "        s += f'Capacity: {self.capacity}\\n'\n",
    "        s += f'Items: {self.items}\\n'\n",
    "        return s\n",
    "    \n",
    "    def has_space(self):\n",
    "        return len(self.items) < self.capacity\n",
    "    \n",
    "    def over_capacity(self):\n",
    "        return len(self.items) > self.capacity\n",
    "    \n",
    "    def insert(self, tup):\n",
    "        self.items.append(tup)\n",
    "        self.items.sort()\n",
    "    \n",
    "    def give_left(self):\n",
    "        item = self.items[0]\n",
    "        del self.items[0]\n",
    "        self.lsibling.insert(item)\n",
    "    \n",
    "    def give_right(self):\n",
    "        item = self.items[-1]\n",
    "        del self.items[-1]\n",
    "        self.rsibling.insert(item)\n",
    "        \n",
    "    def split(self):\n",
    "        # split items\n",
    "        new_right = LeafNode(self.capacity)\n",
    "        new_right.items = self.items[self.capacity//2 + 1:]\n",
    "        \n",
    "        self.items = self.items[:self.capacity//2 + 1]\n",
    "        \n",
    "        # change siblings\n",
    "        old_right = self.rsibling\n",
    "        self.rsibling = new_right\n",
    "        new_right.lsibling = self\n",
    "        new_right.rsibling = old_right\n",
    "        if old_right:\n",
    "            old_right.lsibling = new_right"
   ]
  },
  {
   "cell_type": "code",
   "execution_count": 4,
   "metadata": {},
   "outputs": [],
   "source": [
    "in1 = InternalNode(2, 3)"
   ]
  },
  {
   "cell_type": "code",
   "execution_count": 5,
   "metadata": {},
   "outputs": [],
   "source": [
    "for i in range(5,20):\n",
    "    in1.insert(i)"
   ]
  },
  {
   "cell_type": "code",
   "execution_count": 6,
   "metadata": {},
   "outputs": [
    {
     "data": {
      "text/plain": [
       "Internal Node\n",
       "Capacity: 2\n",
       "Items: [8, 11, 14, 17]\n",
       "Children: [\n",
       "    Leaf Node\n",
       "    Capacity: 3\n",
       "    Items: [5, 6, 7]\n",
       "\n",
       "    Leaf Node\n",
       "    Capacity: 3\n",
       "    Items: [8, 9, 10]\n",
       "\n",
       "    Leaf Node\n",
       "    Capacity: 3\n",
       "    Items: [11, 12, 13]\n",
       "\n",
       "    Leaf Node\n",
       "    Capacity: 3\n",
       "    Items: [14, 15, 16]\n",
       "\n",
       "    Leaf Node\n",
       "    Capacity: 3\n",
       "    Items: [17, 18, 19]\n",
       "]"
      ]
     },
     "execution_count": 6,
     "metadata": {},
     "output_type": "execute_result"
    }
   ],
   "source": [
    "in1"
   ]
  },
  {
   "cell_type": "code",
   "execution_count": null,
   "metadata": {},
   "outputs": [],
   "source": []
  },
  {
   "cell_type": "code",
   "execution_count": null,
   "metadata": {},
   "outputs": [],
   "source": []
  },
  {
   "cell_type": "code",
   "execution_count": null,
   "metadata": {},
   "outputs": [],
   "source": []
  },
  {
   "cell_type": "code",
   "execution_count": null,
   "metadata": {},
   "outputs": [],
   "source": []
  },
  {
   "cell_type": "code",
   "execution_count": null,
   "metadata": {},
   "outputs": [],
   "source": []
  },
  {
   "cell_type": "code",
   "execution_count": null,
   "metadata": {},
   "outputs": [],
   "source": []
  },
  {
   "cell_type": "code",
   "execution_count": null,
   "metadata": {},
   "outputs": [],
   "source": []
  },
  {
   "cell_type": "code",
   "execution_count": null,
   "metadata": {},
   "outputs": [],
   "source": [
    "ln0 = LeafNode(3)\n",
    "ln0.insert(10)\n",
    "\n",
    "ln1 = LeafNode(3)\n",
    "ln1.insert(20)\n",
    "\n",
    "ln0.rsibling = ln1\n",
    "ln1.lsibling = ln0"
   ]
  },
  {
   "cell_type": "code",
   "execution_count": null,
   "metadata": {},
   "outputs": [],
   "source": [
    "ln0"
   ]
  },
  {
   "cell_type": "code",
   "execution_count": null,
   "metadata": {},
   "outputs": [],
   "source": [
    "ln1"
   ]
  },
  {
   "cell_type": "code",
   "execution_count": null,
   "metadata": {},
   "outputs": [],
   "source": [
    "in1 = InternalNode(2)\n",
    "in1.children.append(ln0)\n",
    "in1.children.append(ln1)\n",
    "in1.items.append(20)"
   ]
  },
  {
   "cell_type": "code",
   "execution_count": null,
   "metadata": {},
   "outputs": [],
   "source": [
    "in1.insert_into_leaf(2)\n",
    "in1"
   ]
  },
  {
   "cell_type": "code",
   "execution_count": null,
   "metadata": {},
   "outputs": [],
   "source": [
    "in1.insert_into_leaf(15)\n",
    "in1.insert_into_leaf(16)\n",
    "in1.insert_into_leaf(17)\n",
    "in1"
   ]
  },
  {
   "cell_type": "code",
   "execution_count": null,
   "metadata": {},
   "outputs": [],
   "source": [
    "in1.insert_into_leaf(14)\n",
    "in1"
   ]
  },
  {
   "cell_type": "code",
   "execution_count": null,
   "metadata": {},
   "outputs": [],
   "source": [
    "l = [16]"
   ]
  },
  {
   "cell_type": "code",
   "execution_count": null,
   "metadata": {},
   "outputs": [],
   "source": [
    "l.insert(0, )"
   ]
  },
  {
   "cell_type": "code",
   "execution_count": null,
   "metadata": {},
   "outputs": [],
   "source": []
  },
  {
   "cell_type": "code",
   "execution_count": null,
   "metadata": {},
   "outputs": [],
   "source": [
    "m = 3 # elements in internal nodes\n",
    "l = 4 # elements in leaf nodes"
   ]
  },
  {
   "cell_type": "code",
   "execution_count": null,
   "metadata": {},
   "outputs": [],
   "source": [
    "ln1 = LeafNode(l)\n",
    "\n",
    "for i in range(5):\n",
    "    ln1.insert(i)\n",
    "\n",
    "print(ln1)"
   ]
  },
  {
   "cell_type": "code",
   "execution_count": null,
   "metadata": {},
   "outputs": [],
   "source": []
  },
  {
   "cell_type": "code",
   "execution_count": null,
   "metadata": {},
   "outputs": [],
   "source": []
  }
 ],
 "metadata": {
  "kernelspec": {
   "display_name": "Python [conda env:databases19]",
   "language": "python",
   "name": "conda-env-databases19-py"
  },
  "language_info": {
   "codemirror_mode": {
    "name": "ipython",
    "version": 3
   },
   "file_extension": ".py",
   "mimetype": "text/x-python",
   "name": "python",
   "nbconvert_exporter": "python",
   "pygments_lexer": "ipython3",
   "version": "3.7.2"
  }
 },
 "nbformat": 4,
 "nbformat_minor": 2
}
